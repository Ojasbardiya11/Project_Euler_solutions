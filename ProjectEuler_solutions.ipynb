{
 "cells": [
  {
   "cell_type": "code",
   "execution_count": null,
   "metadata": {},
   "outputs": [],
   "source": [
    "#Project Euler Problems\n",
    "#These are solutions for problems posted on projecteuler.net"
   ]
  },
  {
   "cell_type": "code",
   "execution_count": 4,
   "metadata": {},
   "outputs": [],
   "source": [
    "#Problem 35 - Find number of circular primes upto 1,000,000\n",
    "import math\n",
    "\n",
    "def number_of_digits(num):\n",
    "    number_of_digits = 0\n",
    "    value_holder = num\n",
    "    while value_holder != 0:\n",
    "        value_holder = value_holder // 10\n",
    "        number_of_digits = number_of_digits + 1\n",
    "    return number_of_digits\n",
    "\n",
    "def leftshift(n):\n",
    "    num_digits = number_of_digits(n)\n",
    "    last_digit = n % 10\n",
    "    n = n // 10\n",
    "    n = last_digit*pow(10, num_digits - 1) + n\n",
    "    return n\n",
    "\n",
    "def isPrime(p):\n",
    "    if (p <= 1):\n",
    "        return False\n",
    "    i = 2\n",
    "    while (i*i <= p):\n",
    "        if p % i == 0:\n",
    "            return False\n",
    "        i = i + 1\n",
    "    return True"
   ]
  },
  {
   "cell_type": "code",
   "execution_count": 5,
   "metadata": {},
   "outputs": [
    {
     "name": "stdout",
     "output_type": "stream",
     "text": [
      "55\n"
     ]
    }
   ],
   "source": [
    "#main function --determines number of circular primes upto a certain a limit\n",
    "def number_CircularPrimes(limit):\n",
    "    counter = 0\n",
    "    i = 2\n",
    "    while (i < limit):\n",
    "        value_holder = i\n",
    "        shift_count = 0\n",
    "        prime_count = 0\n",
    "        n_digits = number_of_digits(i)\n",
    "        while (shift_count < n_digits):\n",
    "            if (isPrime(value_holder)):\n",
    "                prime_count = prime_count + 1\n",
    "                value_holder = leftshift(value_holder)\n",
    "            shift_count = shift_count + 1\n",
    "        if (prime_count == n_digits):\n",
    "            counter += 1\n",
    "        i = i + 1\n",
    "    return counter\n",
    "\n",
    "#Final Solution\n",
    "x = number_CircularPrimes(1000000)\n",
    "print (x)     "
   ]
  },
  {
   "cell_type": "code",
   "execution_count": 6,
   "metadata": {},
   "outputs": [],
   "source": [
    "# Problem 33\n",
    "## The fraction 49/98 is a curious/digit-cancelling fraction, \n",
    "## as an inexperienced mathematician in attempting to simplify it may incorrectly believe that 49/98 = 4/8,\n",
    "## which is correct, is obtained by cancelling the 9s.\n",
    "## We shall consider fractions like, 30/50 = 3/5, to be trivial examples."
   ]
  },
  {
   "cell_type": "code",
   "execution_count": 7,
   "metadata": {},
   "outputs": [],
   "source": [
    "def get_Digits(n):\n",
    "    digit_list = []\n",
    "    while (n != 0):\n",
    "        dig = n % 10\n",
    "        digit_list.append(dig)\n",
    "        n = n //10\n",
    "    return digit_list   \n",
    "        \n",
    "def isPrime(p):\n",
    "    if (p <= 1):\n",
    "        return False\n",
    "    i = 2\n",
    "    while (i*i <= p):\n",
    "        if p % i == 0:\n",
    "            return False\n",
    "        i = i + 1\n",
    "    return True\n",
    "\n",
    "def Primeslist(limit):\n",
    "    list_of_primes = []\n",
    "    if limit < 1:\n",
    "        return list_of_primes\n",
    "    i = 1\n",
    "    while i <= limit:\n",
    "        if (isPrime(i)):\n",
    "            list_of_primes.append(i)\n",
    "        i = i + 1\n",
    "    return list_of_primes\n",
    "    \n",
    "def isLessthanone(numerator, denominator):\n",
    "    if numerator >= denominator:\n",
    "        return False\n",
    "    return True\n",
    "\n",
    "def getSimplestform(numerator, denominator):\n",
    "    new_list = []\n",
    "    if (numerator <= 1 or denominator <= 1):\n",
    "        newlist = [0, 0]\n",
    "    prime_divisors = Primeslist(numerator)\n",
    "    for i in prime_divisors:\n",
    "        while numerator % i == 0 and denominator % i == 0:\n",
    "            numerator = numerator//i\n",
    "            denominator = denominator//i\n",
    "    new_list.append(numerator)\n",
    "    new_list.append(denominator)\n",
    "    return new_list"
   ]
  },
  {
   "cell_type": "code",
   "execution_count": 9,
   "metadata": {},
   "outputs": [
    {
     "name": "stdout",
     "output_type": "stream",
     "text": [
      "[[16, 64], [19, 95], [26, 65], [49, 98]]\n",
      "100\n"
     ]
    }
   ],
   "source": [
    "#main function --finds all curious/digit-cancelling fractions with numerator <= 99 and denominator <= 99\n",
    "def isCuriousFraction():\n",
    "    max_num = 99\n",
    "    max_denom = 99\n",
    "    start_num = 10\n",
    "    list_of_fractions = []\n",
    "    while (start_num <= max_num):\n",
    "        start_denom = 10\n",
    "        while (start_denom <= max_denom):\n",
    "            if isLessthanone(start_num, start_denom):\n",
    "                cancelled_num = [0, 0]\n",
    "                num_digits = get_Digits(start_num)\n",
    "                denom_digits = get_Digits(start_denom)\n",
    "                f = getSimplestform(start_num, start_denom)\n",
    "                if (0 not in num_digits and 0 not in denom_digits):\n",
    "                    if num_digits[0] == denom_digits[0]:\n",
    "                        cancelled_num = [num_digits[1], denom_digits[1]]\n",
    "                    elif num_digits[0] == denom_digits[1]:\n",
    "                        cancelled_num = [num_digits[1], denom_digits[0]]\n",
    "                    elif num_digits[1] == denom_digits[0]:\n",
    "                        cancelled_num = [num_digits[0], denom_digits[1]]\n",
    "                    elif num_digits[1] == denom_digits[1]:\n",
    "                        cancelled_num = [num_digits[0], denom_digits[0]]\n",
    "                cancelled_num = getSimplestform(cancelled_num[0], cancelled_num[1])    \n",
    "                if (cancelled_num[0] == f[0] and cancelled_num[1] == f[1]):\n",
    "                    cfrac_list = [start_num, start_denom]\n",
    "                    list_of_fractions.append(cfrac_list)\n",
    "            start_denom += 1\n",
    "        start_num += 1\n",
    "    return list_of_fractions\n",
    "\n",
    "#Code to find out denominator of product of all curious fractions\n",
    "x = isCuriousFraction()\n",
    "print (x)\n",
    "num_product = 1\n",
    "denom_product = 1\n",
    "for i in x:\n",
    "    num_product = num_product*i[0]  \n",
    "    denom_product = denom_product*i[1]\n",
    "end_product = getSimplestform(num_product, denom_product)\n",
    "print (end_product[1])              \n",
    "    "
   ]
  },
  {
   "cell_type": "code",
   "execution_count": 8,
   "metadata": {},
   "outputs": [
    {
     "name": "stdout",
     "output_type": "stream",
     "text": [
      "4782\n"
     ]
    }
   ],
   "source": [
    "#Problem 25 - first 1000-digit Fibonacci number\n",
    "def Fibonacci_num(n_digits):\n",
    "    f1 = 1\n",
    "    f2 = 1\n",
    "    index = 2\n",
    "    while len(str(f2)) != n_digits:\n",
    "        f2, f1 = f1 + f2, f2\n",
    "        index += 1\n",
    "    return index\n",
    "\n",
    "x = Fibonacci_num(1000)\n",
    "print (x)"
   ]
  },
  {
   "cell_type": "code",
   "execution_count": null,
   "metadata": {},
   "outputs": [],
   "source": [
    "#Problem 21 - Amicable numbers\n",
    "#Let d(n) be defined as the sum of proper divisors of n (numbers less than n which divide evenly into n).\n",
    "#If d(a) = b and d(b) = a, where a ≠ b, then a and b are an amicable pair and each of a and b are called amicable numbers."
   ]
  },
  {
   "cell_type": "code",
   "execution_count": 10,
   "metadata": {},
   "outputs": [],
   "source": [
    "def Factorize(num):\n",
    "    Factors_list = []\n",
    "    for i in range(1, num):\n",
    "        if (num % i == 0):\n",
    "            Factors_list.append(i)\n",
    "    return Factors_list\n",
    "\n",
    "def isAmicable(a, b):\n",
    "    if (a != b):\n",
    "        factors_of_a = Factorize(a)\n",
    "        factors_of_b = Factorize(b)\n",
    "        if (sum(factors_of_a) == b and sum(factors_of_b) == a):\n",
    "            return True\n",
    "    return False"
   ]
  },
  {
   "cell_type": "code",
   "execution_count": 11,
   "metadata": {},
   "outputs": [
    {
     "name": "stdout",
     "output_type": "stream",
     "text": [
      "31626\n"
     ]
    }
   ],
   "source": [
    "#main function \n",
    "def Amicable_sum(limit):\n",
    "    numbers_seen = []\n",
    "    i = 2\n",
    "    total_sum = 0\n",
    "    while i < limit:\n",
    "        if (isAmicable(i, sum(Factorize(i))) and i not in numbers_seen):\n",
    "            total_sum += i + sum(Factorize(i))\n",
    "            numbers_seen.append(sum(Factorize(i)))\n",
    "        i += 1\n",
    "    return total_sum\n",
    "\n",
    "x = Amicable_sum(10000)\n",
    "print(x)"
   ]
  },
  {
   "cell_type": "code",
   "execution_count": 50,
   "metadata": {},
   "outputs": [
    {
     "name": "stdout",
     "output_type": "stream",
     "text": [
      "748317\n"
     ]
    }
   ],
   "source": [
    "#Problem 37 - Truncatable primes\n",
    "prime_nums = Primeslist(1000000)\n",
    "\n",
    "#determine whether a number is truncatable\n",
    "def isTruncatable(num):\n",
    "    n1 = 0\n",
    "    digits = get_Digits(num)\n",
    "    if len(digits) == 1:\n",
    "        return False\n",
    "    for i in range(len(digits)):\n",
    "        n1 += pow(10, i)*digits[i]\n",
    "        #print(n1)\n",
    "        if (isPrime(n1) == False):\n",
    "            return False\n",
    "    n2 = num\n",
    "    while ((n2 // 10) != 0):\n",
    "        n2 = n2 // 10\n",
    "        #print(n2)\n",
    "        if (isPrime(n2) == False):\n",
    "            return False\n",
    "    return True\n",
    "\n",
    "trunctable_primes = []\n",
    "for k in range(len(prime_nums)):\n",
    "    if (isTruncatable(prime_nums[k])):\n",
    "        trunctable_primes.append(prime_nums[k])\n",
    "\n",
    "print(sum(trunctable_primes))"
   ]
  },
  {
   "cell_type": "code",
   "execution_count": 70,
   "metadata": {},
   "outputs": [
    {
     "name": "stdout",
     "output_type": "stream",
     "text": [
      "1587000\n"
     ]
    }
   ],
   "source": [
    "#Problem 112 - Bouncy numbers\n",
    "#Find first number so that proportion of bouncy numbers upto that number is 99%\n",
    "\n",
    "#main function\n",
    "def isBouncy(num):\n",
    "    digits = get_Digits(num)\n",
    "    if (len(digits) == 1):\n",
    "        return False\n",
    "    digits.reverse()\n",
    "    for i in range(len(digits) - 1):\n",
    "        if digits[i] > digits[i+1]:\n",
    "            break\n",
    "        if i == (len(digits) - 2):\n",
    "            return False\n",
    "    for j in range(len(digits) - 1):\n",
    "        if digits[j] < digits[j + 1]:\n",
    "            break\n",
    "        if j == (len(digits) - 2):\n",
    "            return False\n",
    "    return True\n",
    "\n",
    "i = 1\n",
    "n_bouncynums = 0\n",
    "while True:\n",
    "    if isBouncy(i):\n",
    "        n_bouncynums += 1\n",
    "    if (((n_bouncynums/i)*100) >= float(99)):\n",
    "        print (i)\n",
    "        break\n",
    "    i = i + 1"
   ]
  },
  {
   "cell_type": "code",
   "execution_count": null,
   "metadata": {},
   "outputs": [],
   "source": []
  }
 ],
 "metadata": {
  "kernelspec": {
   "display_name": "Python 3",
   "language": "python",
   "name": "python3"
  },
  "language_info": {
   "codemirror_mode": {
    "name": "ipython",
    "version": 3
   },
   "file_extension": ".py",
   "mimetype": "text/x-python",
   "name": "python",
   "nbconvert_exporter": "python",
   "pygments_lexer": "ipython3",
   "version": "3.7.3"
  }
 },
 "nbformat": 4,
 "nbformat_minor": 2
}
