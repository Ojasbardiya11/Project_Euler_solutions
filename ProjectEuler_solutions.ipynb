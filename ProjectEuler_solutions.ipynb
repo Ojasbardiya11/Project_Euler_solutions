{
 "cells": [
  {
   "cell_type": "code",
   "execution_count": null,
   "metadata": {},
   "outputs": [],
   "source": [
    "#Project Euler Problems\n",
    "#These are solutions for problems posted on projecteuler.net"
   ]
  },
  {
   "cell_type": "code",
   "execution_count": 1,
   "metadata": {},
   "outputs": [
    {
     "name": "stdout",
     "output_type": "stream",
     "text": [
      "55\n"
     ]
    }
   ],
   "source": [
    "#Problem 35\n",
    "import math\n",
    "\n",
    "def number_of_digits(num):\n",
    "    number_of_digits = 0\n",
    "    value_holder = num\n",
    "    while value_holder != 0:\n",
    "        value_holder = value_holder // 10\n",
    "        number_of_digits = number_of_digits + 1\n",
    "    return number_of_digits\n",
    "\n",
    "def leftshift(n):\n",
    "    num_digits = number_of_digits(n)\n",
    "    last_digit = n % 10\n",
    "    n = n // 10\n",
    "    n = last_digit*pow(10, num_digits - 1) + n\n",
    "    return n\n",
    "\n",
    "def isPrime(p):\n",
    "    if (p <= 1):\n",
    "        return False\n",
    "    i = 2\n",
    "    while (i*i <= p):\n",
    "        if p % i == 0:\n",
    "            return False\n",
    "        i = i + 1\n",
    "    return True\n",
    "\n",
    "#main function --determines number of circular primes upto a certain a limit\n",
    "def number_CircularPrimes(limit):\n",
    "    counter = 0\n",
    "    i = 2\n",
    "    while (i < limit):\n",
    "        value_holder = i\n",
    "        shift_count = 0\n",
    "        prime_count = 0\n",
    "        n_digits = number_of_digits(i)\n",
    "        while (shift_count < n_digits):\n",
    "            if (isPrime(value_holder)):\n",
    "                prime_count = prime_count + 1\n",
    "                value_holder = leftshift(value_holder)\n",
    "            shift_count = shift_count + 1\n",
    "        if (prime_count == n_digits):\n",
    "            counter += 1\n",
    "        i = i + 1\n",
    "    return counter\n",
    "\n",
    "#Testing \n",
    "x = number_CircularPrimes(1000000)\n",
    "print (x)     "
   ]
  },
  {
   "cell_type": "code",
   "execution_count": null,
   "metadata": {},
   "outputs": [],
   "source": [
    "#Problem 33\n",
    "import math\n"
   ]
  },
  {
   "cell_type": "code",
   "execution_count": null,
   "metadata": {},
   "outputs": [],
   "source": []
  }
 ],
 "metadata": {
  "kernelspec": {
   "display_name": "Python 3",
   "language": "python",
   "name": "python3"
  },
  "language_info": {
   "codemirror_mode": {
    "name": "ipython",
    "version": 3
   },
   "file_extension": ".py",
   "mimetype": "text/x-python",
   "name": "python",
   "nbconvert_exporter": "python",
   "pygments_lexer": "ipython3",
   "version": "3.7.3"
  }
 },
 "nbformat": 4,
 "nbformat_minor": 2
}
